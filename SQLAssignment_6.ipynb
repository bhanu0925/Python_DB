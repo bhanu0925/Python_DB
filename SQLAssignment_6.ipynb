{
 "cells": [
  {
   "cell_type": "markdown",
   "id": "aa51453e",
   "metadata": {},
   "source": [
    "## SQLAssignment_6"
   ]
  },
  {
   "cell_type": "markdown",
   "id": "e1323c9e",
   "metadata": {},
   "source": [
    "### Q-1. Write an SQL query`m to print details of the Workers who have joined in Feb’2014."
   ]
  },
  {
   "cell_type": "markdown",
   "id": "468aa7e2",
   "metadata": {},
   "source": [
    "#### Select * from Worker where year(DateOfJoining) = 2014 and month(DateOfJoining) = 2;"
   ]
  },
  {
   "cell_type": "markdown",
   "id": "d5897d21",
   "metadata": {},
   "source": [
    "<img src=\"A6_1.jpg\" width=\"900\"/>"
   ]
  },
  {
   "cell_type": "markdown",
   "id": "6cc109af",
   "metadata": {},
   "source": [
    "### Q-2. Write an SQL query to fetch duplicate records having matching data in some fields of a table."
   ]
  },
  {
   "cell_type": "markdown",
   "id": "33b006bf",
   "metadata": {},
   "source": [
    "#### SELECT gender, department, COUNT(*) FROM worker GROUP BY gender, department  HAVING COUNT(*) > 1;"
   ]
  },
  {
   "cell_type": "markdown",
   "id": "c273ca6d",
   "metadata": {},
   "source": [
    "<img src=\"A6_2.jpg\" width=\"900\"/>"
   ]
  },
  {
   "cell_type": "markdown",
   "id": "b1afb9df",
   "metadata": {},
   "source": [
    "### Q-3. How to remove duplicate rows from worker table."
   ]
  },
  {
   "cell_type": "markdown",
   "id": "4b5afa78",
   "metadata": {},
   "source": [
    "    DELETE c1 FROM worker c1  \n",
    "    INNER JOIN worker c2   \n",
    "    WHERE  \n",
    "        c1.salary > c2.salary AND  \n",
    "        c1.LAST_NAME = c2.LAST_NAME"
   ]
  },
  {
   "cell_type": "markdown",
   "id": "124d6fe7",
   "metadata": {},
   "source": [
    "<img src=\"A6_4.jpg\" width=\"900\"/>"
   ]
  },
  {
   "cell_type": "code",
   "execution_count": null,
   "id": "8726b85b",
   "metadata": {},
   "outputs": [],
   "source": []
  }
 ],
 "metadata": {
  "kernelspec": {
   "display_name": "Python 3",
   "language": "python",
   "name": "python3"
  },
  "language_info": {
   "codemirror_mode": {
    "name": "ipython",
    "version": 3
   },
   "file_extension": ".py",
   "mimetype": "text/x-python",
   "name": "python",
   "nbconvert_exporter": "python",
   "pygments_lexer": "ipython3",
   "version": "3.8.8"
  }
 },
 "nbformat": 4,
 "nbformat_minor": 5
}
