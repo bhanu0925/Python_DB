{
 "cells": [
  {
   "cell_type": "markdown",
   "id": "8f8e4c47",
   "metadata": {},
   "source": [
    "## SQLAssignment_4"
   ]
  },
  {
   "cell_type": "markdown",
   "id": "47cc5c68",
   "metadata": {},
   "source": [
    "### Q-1. Write an SQL query to print the FIRST_NAME from Worker table after replacing ‘a’ with ‘A’."
   ]
  },
  {
   "cell_type": "markdown",
   "id": "baf283fd",
   "metadata": {},
   "source": [
    "#### SELECT REPLACE(first_name, \"a\", \"A\") FROM worker;"
   ]
  },
  {
   "cell_type": "markdown",
   "id": "07c03769",
   "metadata": {},
   "source": [
    "<img src=\"A4_1.jpg\" width=\"900\"/>"
   ]
  },
  {
   "cell_type": "markdown",
   "id": "85540c55",
   "metadata": {},
   "source": [
    "### Q-2. Write an SQL query to print all Worker details from the Worker table order by FIRST_NAME Ascending and DEPARTMENT Descending."
   ]
  },
  {
   "cell_type": "markdown",
   "id": "ad67839d",
   "metadata": {},
   "source": [
    "#### SELECT * FROM worker ORDER BY first_name ASC, department DESC;"
   ]
  },
  {
   "cell_type": "markdown",
   "id": "5396ea3f",
   "metadata": {},
   "source": [
    "<img src=\"A4_2.jpg\" width=\"900\"/>"
   ]
  },
  {
   "cell_type": "markdown",
   "id": "cb738a17",
   "metadata": {},
   "source": [
    "### Q-3. Write an SQL query to fetch the names of workers who earn the highest salary."
   ]
  },
  {
   "cell_type": "markdown",
   "id": "201a0b04",
   "metadata": {},
   "source": [
    "#### SELECT FIRST_NAME, SALARY from Worker WHERE SALARY=(SELECT max(SALARY) from Worker);"
   ]
  },
  {
   "cell_type": "markdown",
   "id": "de537026",
   "metadata": {},
   "source": [
    "<img src=\"A4_3.jpg\" width=\"900\"/>"
   ]
  }
 ],
 "metadata": {
  "kernelspec": {
   "display_name": "Python 3",
   "language": "python",
   "name": "python3"
  },
  "language_info": {
   "codemirror_mode": {
    "name": "ipython",
    "version": 3
   },
   "file_extension": ".py",
   "mimetype": "text/x-python",
   "name": "python",
   "nbconvert_exporter": "python",
   "pygments_lexer": "ipython3",
   "version": "3.8.8"
  }
 },
 "nbformat": 4,
 "nbformat_minor": 5
}
