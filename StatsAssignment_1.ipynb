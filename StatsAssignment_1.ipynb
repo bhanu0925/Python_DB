{
 "cells": [
  {
   "cell_type": "markdown",
   "id": "70f1fdbe",
   "metadata": {},
   "source": [
    "## StatsAssignment_1"
   ]
  },
  {
   "cell_type": "markdown",
   "id": "e01bc40d",
   "metadata": {},
   "source": [
    "### Q-1. Write an SQL query to fetch “FIRST_NAME” from Worker table using the alias name as <WORKER_NAME>.\n"
   ]
  },
  {
   "cell_type": "markdown",
   "id": "badfda82",
   "metadata": {},
   "source": [
    "#### SELECT FIRST_NAME AS WORKER_NAME FROM worker;"
   ]
  },
  {
   "cell_type": "markdown",
   "id": "7920b5c7",
   "metadata": {},
   "source": [
    "<img src=\"img/A1_1.jpg\" width=\"900\"/>"
   ]
  },
  {
   "cell_type": "markdown",
   "id": "02491551",
   "metadata": {},
   "source": [
    "### `Q-2. Write an SQL query to fetch unique values of DEPARTMENT from Worker table.\n"
   ]
  },
  {
   "cell_type": "markdown",
   "id": "b51fce4b",
   "metadata": {},
   "source": [
    "#### SELECT DISTINCT DEPARTMENT FROM  worker;"
   ]
  },
  {
   "cell_type": "markdown",
   "id": "2124fa59",
   "metadata": {},
   "source": [
    "<img src=\"img/A1_2.jpg\" width=\"900\"/>"
   ]
  },
  {
   "cell_type": "markdown",
   "id": "fbbb23b0",
   "metadata": {},
   "source": [
    "### Q-3. Write an SQL query to show the last 5 record from a table."
   ]
  },
  {
   "cell_type": "markdown",
   "id": "8c1ce9c8",
   "metadata": {},
   "source": [
    "#### (SELECT * FROM worker ORDER BY EMPNO DESC LIMIT 5) ORDER BY EMPNO ASC;"
   ]
  },
  {
   "cell_type": "markdown",
   "id": "3be8cc20",
   "metadata": {},
   "source": [
    "<img src=\"img/A1_3.jpg\" width=\"900\"/>"
   ]
  },
  {
   "cell_type": "code",
   "execution_count": null,
   "id": "a59c5e7b",
   "metadata": {},
   "outputs": [],
   "source": []
  }
 ],
 "metadata": {
  "kernelspec": {
   "display_name": "Python 3",
   "language": "python",
   "name": "python3"
  },
  "language_info": {
   "codemirror_mode": {
    "name": "ipython",
    "version": 3
   },
   "file_extension": ".py",
   "mimetype": "text/x-python",
   "name": "python",
   "nbconvert_exporter": "python",
   "pygments_lexer": "ipython3",
   "version": "3.8.8"
  }
 },
 "nbformat": 4,
 "nbformat_minor": 5
}
