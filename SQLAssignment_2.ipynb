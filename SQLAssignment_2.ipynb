{
 "cells": [
  {
   "cell_type": "markdown",
   "id": "b13620f0",
   "metadata": {},
   "source": [
    "## SQLAssignment_2"
   ]
  },
  {
   "cell_type": "markdown",
   "id": "fecffa31",
   "metadata": {},
   "source": [
    "### Q-1. Write an SQL query to print the first three characters of  FIRST_NAME from Worker table."
   ]
  },
  {
   "cell_type": "markdown",
   "id": "6ca01fc8",
   "metadata": {},
   "source": [
    "#### SELECT SUBSTRING(FIRST_NAME,1,3) FROM worker;\n",
    "#### SELECT LEFT(first_name, 3) FROM worker;"
   ]
  },
  {
   "cell_type": "markdown",
   "id": "bd077512",
   "metadata": {},
   "source": [
    "<img src=\"A2_1.jpg\" width=\"900\"/>"
   ]
  },
  {
   "cell_type": "markdown",
   "id": "ad91406b",
   "metadata": {},
   "source": [
    " ### Q-2. Write an SQL query to find the position of the alphabet (‘a’) in the first name column ‘Amitabh’ from Worker table."
   ]
  },
  {
   "cell_type": "markdown",
   "id": "2698025d",
   "metadata": {},
   "source": [
    "####  SELECT POSITION(\"A\" IN first_name) FROM worker WHERE first_name = \"Amitabh\";"
   ]
  },
  {
   "cell_type": "markdown",
   "id": "d574c170",
   "metadata": {},
   "source": [
    "<img src=\"A2_2.jpg\" width=\"900\"/>"
   ]
  },
  {
   "cell_type": "markdown",
   "id": "f17c6d28",
   "metadata": {},
   "source": [
    "#### SELECT INSTR(first_name, \"A\") FROM worker WHERE first_name = \"Amitabh\";"
   ]
  },
  {
   "cell_type": "markdown",
   "id": "7229cf9b",
   "metadata": {},
   "source": [
    "<img src=\"A2_2_2.jpg\" width=\"900\"/>"
   ]
  },
  {
   "cell_type": "markdown",
   "id": "a420fb4e",
   "metadata": {},
   "source": [
    "### Q-3. Write an SQL query to print the name of employees having the highest salary in each department."
   ]
  },
  {
   "cell_type": "markdown",
   "id": "695d677f",
   "metadata": {},
   "source": [
    "#### SELECT DEPARTMENT, MAX(Salary) FROM worker GROUP BY DEPARTMENT"
   ]
  },
  {
   "cell_type": "markdown",
   "id": "b102b10c",
   "metadata": {},
   "source": [
    "<img src=\"img/A2_3.jpg\" width=\"900\"/>"
   ]
  }
 ],
 "metadata": {
  "kernelspec": {
   "display_name": "Python 3",
   "language": "python",
   "name": "python3"
  },
  "language_info": {
   "codemirror_mode": {
    "name": "ipython",
    "version": 3
   },
   "file_extension": ".py",
   "mimetype": "text/x-python",
   "name": "python",
   "nbconvert_exporter": "python",
   "pygments_lexer": "ipython3",
   "version": "3.8.8"
  }
 },
 "nbformat": 4,
 "nbformat_minor": 5
}
