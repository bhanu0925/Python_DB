{
 "cells": [
  {
   "cell_type": "markdown",
   "id": "2d2e0331",
   "metadata": {},
   "source": [
    "## SQLAssignment_5"
   ]
  },
  {
   "cell_type": "markdown",
   "id": "9633aa76",
   "metadata": {},
   "source": [
    "### Q-1. Write an SQL query to print details of workers excluding first names, “Vipul” and “Satish” from Worker table."
   ]
  },
  {
   "cell_type": "markdown",
   "id": "e76ecc30",
   "metadata": {},
   "source": [
    "#### Select * from Worker where FIRST_NAME not in ('Vipul','Satish');"
   ]
  },
  {
   "cell_type": "markdown",
   "id": "5b448730",
   "metadata": {},
   "source": [
    "<img src=\"A5_1.jpg\" width=\"900\"/>"
   ]
  },
  {
   "cell_type": "markdown",
   "id": "7f37c91f",
   "metadata": {},
   "source": [
    "### Q-2. Write an SQL query to print details of the Workers whose FIRST_NAME ends with ‘h’ and contains six alphabets"
   ]
  },
  {
   "cell_type": "markdown",
   "id": "1dbfc836",
   "metadata": {},
   "source": [
    "#### Select * from Worker where FIRST_NAME like '_____h';"
   ]
  },
  {
   "cell_type": "markdown",
   "id": "7388dca5",
   "metadata": {},
   "source": [
    "<img src=\"A5_2.jpg\" width=\"900\"/>"
   ]
  },
  {
   "cell_type": "markdown",
   "id": "40d1719d",
   "metadata": {},
   "source": [
    "### Q-3. Write a query to validate Email of Employee."
   ]
  },
  {
   "cell_type": "markdown",
   "id": "03bf5fc9",
   "metadata": {},
   "source": [
    "#### SELECT * FROM worker WHERE emailid NOT LIKE '[0-9a-zA-Z]%@__%.__%'"
   ]
  },
  {
   "cell_type": "markdown",
   "id": "0ef2040b",
   "metadata": {},
   "source": [
    "<img src=\"A5_3.jpg\" width=\"900\"/>"
   ]
  }
 ],
 "metadata": {
  "kernelspec": {
   "display_name": "Python 3",
   "language": "python",
   "name": "python3"
  },
  "language_info": {
   "codemirror_mode": {
    "name": "ipython",
    "version": 3
   },
   "file_extension": ".py",
   "mimetype": "text/x-python",
   "name": "python",
   "nbconvert_exporter": "python",
   "pygments_lexer": "ipython3",
   "version": "3.8.8"
  }
 },
 "nbformat": 4,
 "nbformat_minor": 5
}
