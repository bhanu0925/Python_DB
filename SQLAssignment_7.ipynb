{
 "cells": [
  {
   "cell_type": "markdown",
   "id": "c9e6cf56",
   "metadata": {},
   "source": [
    "## SQLAssignment_7"
   ]
  },
  {
   "cell_type": "markdown",
   "id": "c8bc76f0",
   "metadata": {},
   "source": [
    "### Q-13. Write an SQL query to show only odd rows from a table."
   ]
  },
  {
   "cell_type": "markdown",
   "id": "2682dfda",
   "metadata": {},
   "source": [
    "#### SELECT * FROM Worker WHERE MOD (empno, 2) <> 0;"
   ]
  },
  {
   "cell_type": "markdown",
   "id": "4cb51cc8",
   "metadata": {},
   "source": [
    "<img src=\"A7_1.jpg\" width=\"900\"/>"
   ]
  },
  {
   "cell_type": "markdown",
   "id": "ddeff732",
   "metadata": {},
   "source": [
    "### Write an SQL query to clone a new table from another table."
   ]
  },
  {
   "cell_type": "markdown",
   "id": "25d5b0c7",
   "metadata": {},
   "source": [
    "    use workDatabase\n",
    "    CREATE TABLE WorkerClone LIKE Worker;\n",
    "\n",
    "    INSERT INTO WorkerClone (empno,first_name,last_name,gender,department,salary,dateofjoining,emailid) \n",
    "    SELECT empno,first_name,last_name,gender,department,salary,dateofjoining,emailid FROM Worker;\n",
    "\n",
    "    select * from workerclone"
   ]
  },
  {
   "cell_type": "markdown",
   "id": "f776f36f",
   "metadata": {},
   "source": [
    "<img src=\"A7_2.jpg\" width=\"900\"/>"
   ]
  },
  {
   "cell_type": "code",
   "execution_count": null,
   "id": "02e1e268",
   "metadata": {},
   "outputs": [],
   "source": []
  },
  {
   "cell_type": "code",
   "execution_count": null,
   "id": "8005c8de",
   "metadata": {},
   "outputs": [],
   "source": []
  },
  {
   "cell_type": "code",
   "execution_count": null,
   "id": "ce0bfae1",
   "metadata": {},
   "outputs": [],
   "source": []
  },
  {
   "cell_type": "code",
   "execution_count": null,
   "id": "a856e4e7",
   "metadata": {},
   "outputs": [],
   "source": [
    "Q-13. Write an SQL query to show only odd rows from a table.\n",
    "Q-14. Write an SQL query to clone a new table from another table."
   ]
  }
 ],
 "metadata": {
  "kernelspec": {
   "display_name": "Python 3",
   "language": "python",
   "name": "python3"
  },
  "language_info": {
   "codemirror_mode": {
    "name": "ipython",
    "version": 3
   },
   "file_extension": ".py",
   "mimetype": "text/x-python",
   "name": "python",
   "nbconvert_exporter": "python",
   "pygments_lexer": "ipython3",
   "version": "3.8.8"
  }
 },
 "nbformat": 4,
 "nbformat_minor": 5
}
