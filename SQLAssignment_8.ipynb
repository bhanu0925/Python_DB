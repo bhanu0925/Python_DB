{
 "cells": [
  {
   "cell_type": "markdown",
   "id": "05aa8902",
   "metadata": {},
   "source": [
    "## SQLAssignment_8"
   ]
  },
  {
   "cell_type": "markdown",
   "id": "b84afcaf",
   "metadata": {},
   "source": [
    "### Q-15. Write an SQL query to fetch intersecting records of two tables."
   ]
  },
  {
   "cell_type": "markdown",
   "id": "450f48fd",
   "metadata": {},
   "source": [
    "    select \n",
    "        worker.empno,\n",
    "        worker.first_name,\n",
    "        workerclone.empno,\n",
    "        workerclone.first_name\n",
    "    from worker \n",
    "    inner join workerclone \n",
    "    on workerclone.name = worker.name"
   ]
  },
  {
   "cell_type": "markdown",
   "id": "05d5f487",
   "metadata": {},
   "source": [
    "<img src=\"A8_1.jpg\" width=\"900\"/>"
   ]
  },
  {
   "cell_type": "markdown",
   "id": "fd6affbb",
   "metadata": {},
   "source": [
    "### Q-16. Write an SQL query to show records from one table that another table does not have."
   ]
  },
  {
   "cell_type": "markdown",
   "id": "66a0cc6f",
   "metadata": {},
   "source": [
    "    SELECT w.empno,  w.first_name , wc.empno,  wc.first_name\n",
    "    FROM workerclone w\n",
    "    LEFT JOIN worker wc\n",
    "    ON w.first_name = wc.first_name;"
   ]
  },
  {
   "cell_type": "markdown",
   "id": "447b536e",
   "metadata": {},
   "source": [
    "<img src=\"A8_2.jpg\" width=\"900\"/>"
   ]
  },
  {
   "cell_type": "code",
   "execution_count": null,
   "id": "4e29b561",
   "metadata": {},
   "outputs": [],
   "source": []
  }
 ],
 "metadata": {
  "kernelspec": {
   "display_name": "Python 3",
   "language": "python",
   "name": "python3"
  },
  "language_info": {
   "codemirror_mode": {
    "name": "ipython",
    "version": 3
   },
   "file_extension": ".py",
   "mimetype": "text/x-python",
   "name": "python",
   "nbconvert_exporter": "python",
   "pygments_lexer": "ipython3",
   "version": "3.8.8"
  }
 },
 "nbformat": 4,
 "nbformat_minor": 5
}
