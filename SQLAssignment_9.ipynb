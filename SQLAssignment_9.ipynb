{
 "cells": [
  {
   "cell_type": "markdown",
   "id": "96216594",
   "metadata": {},
   "source": [
    "## SQLAssignment_9"
   ]
  },
  {
   "cell_type": "markdown",
   "id": "b5f861fe",
   "metadata": {},
   "source": [
    "### Q-17. Write an SQL query to show the top n (say 10) records of a table."
   ]
  },
  {
   "cell_type": "markdown",
   "id": "34a9cc7e",
   "metadata": {},
   "source": [
    "#### SELECT * FROM Worker ORDER BY Salary DESC LIMIT 10;"
   ]
  },
  {
   "cell_type": "markdown",
   "id": "bca4e82c",
   "metadata": {},
   "source": [
    "<img src=\"A9_1.jpg\" width=\"900\"/>"
   ]
  },
  {
   "cell_type": "markdown",
   "id": "04ea4ed7",
   "metadata": {},
   "source": [
    "### Q-18. Write an SQL query to determine the nth (say n=5) highest salary from a table."
   ]
  },
  {
   "cell_type": "markdown",
   "id": "6be86159",
   "metadata": {},
   "source": [
    "#### SELECT Salary FROM Worker ORDER BY Salary DESC LIMIT 5,1;¶\n",
    "where n = 5"
   ]
  },
  {
   "cell_type": "markdown",
   "id": "c5d27c96",
   "metadata": {},
   "source": [
    "<img src=\"A3_3.jpg\" width=\"900\"/>"
   ]
  },
  {
   "cell_type": "code",
   "execution_count": null,
   "id": "962319ee",
   "metadata": {},
   "outputs": [],
   "source": []
  }
 ],
 "metadata": {
  "kernelspec": {
   "display_name": "Python 3",
   "language": "python",
   "name": "python3"
  },
  "language_info": {
   "codemirror_mode": {
    "name": "ipython",
    "version": 3
   },
   "file_extension": ".py",
   "mimetype": "text/x-python",
   "name": "python",
   "nbconvert_exporter": "python",
   "pygments_lexer": "ipython3",
   "version": "3.8.8"
  }
 },
 "nbformat": 4,
 "nbformat_minor": 5
}
