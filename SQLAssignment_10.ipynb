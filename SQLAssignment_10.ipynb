{
 "cells": [
  {
   "cell_type": "markdown",
   "id": "33d2461e",
   "metadata": {},
   "source": [
    "## SQLAssignment_10"
   ]
  },
  {
   "cell_type": "markdown",
   "id": "6b2b6289",
   "metadata": {},
   "source": [
    "### Q-19. Write an SQL query to determine the 5th highest salary without using TOP or limit method."
   ]
  },
  {
   "cell_type": "markdown",
   "id": "31825b1d",
   "metadata": {},
   "source": [
    "\n",
    "\n",
    "    SELECT Salary\n",
    "    FROM Worker W1\n",
    "    WHERE 4 = (\n",
    "     SELECT COUNT( DISTINCT ( W2.Salary ) )\n",
    "     FROM Worker W2\n",
    "     WHERE W2.Salary >= W1.Salary\n",
    "     );\n"
   ]
  },
  {
   "cell_type": "markdown",
   "id": "7073cc6f",
   "metadata": {},
   "source": [
    "<img src=\"A10_1.jpg\" width=\"900\"/>"
   ]
  },
  {
   "cell_type": "markdown",
   "id": "5db8727f",
   "metadata": {},
   "source": [
    "### Q-20. Write an SQL query to fetch the list of employees with the same salary."
   ]
  },
  {
   "cell_type": "markdown",
   "id": "93729e3a",
   "metadata": {},
   "source": [
    "\n",
    "    Select distinct W.FIRST_NAME, W.Salary \n",
    "    from Worker W, Worker W1 \n",
    "    where W.Salary = W1.Salary \n",
    "    and W.FIRST_NAME != W1.FIRST_NAME;"
   ]
  },
  {
   "cell_type": "markdown",
   "id": "c17f7964",
   "metadata": {},
   "source": [
    "<img src=\"A10_2.jpg\" width=\"900\"/>"
   ]
  }
 ],
 "metadata": {
  "kernelspec": {
   "display_name": "Python 3",
   "language": "python",
   "name": "python3"
  },
  "language_info": {
   "codemirror_mode": {
    "name": "ipython",
    "version": 3
   },
   "file_extension": ".py",
   "mimetype": "text/x-python",
   "name": "python",
   "nbconvert_exporter": "python",
   "pygments_lexer": "ipython3",
   "version": "3.8.8"
  }
 },
 "nbformat": 4,
 "nbformat_minor": 5
}
