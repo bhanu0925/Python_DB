{
 "cells": [
  {
   "cell_type": "markdown",
   "id": "755a7e57",
   "metadata": {},
   "source": [
    "## StatsAssignment_3"
   ]
  },
  {
   "cell_type": "markdown",
   "id": "bfefd206",
   "metadata": {},
   "source": [
    "### Q-1. Write an SQL query to print the FIRST_NAME from Worker table after removing white spaces from the right side"
   ]
  },
  {
   "cell_type": "markdown",
   "id": "4381129b",
   "metadata": {},
   "source": [
    "#### SELECT RTRIM(FIRST_NAME) FROM worker;"
   ]
  },
  {
   "cell_type": "markdown",
   "id": "06156823",
   "metadata": {},
   "source": [
    "<img src=\"A3_1.jpg\" width=\"900\"/>"
   ]
  },
  {
   "cell_type": "markdown",
   "id": "ebd36a2a",
   "metadata": {},
   "source": [
    "### Q-2. Write an SQL query that fetches the unique values of DEPARTMENT from Worker table and prints its length."
   ]
  },
  {
   "cell_type": "markdown",
   "id": "6c4e0a13",
   "metadata": {},
   "source": [
    "#### SELECT DISTINCT DEPARTMENT, LENGTH(DEPARTMENT) AS departmentNameLength FROM worker;"
   ]
  },
  {
   "cell_type": "markdown",
   "id": "c68819e5",
   "metadata": {},
   "source": [
    "<img src=\"A3_2.jpg\" width=\"900\"/>"
   ]
  },
  {
   "cell_type": "markdown",
   "id": "3305c6f4",
   "metadata": {},
   "source": [
    "### Q-3. Write an SQL query to fetch nth max salaries from a table."
   ]
  },
  {
   "cell_type": "markdown",
   "id": "b5c73c89",
   "metadata": {},
   "source": [
    "#### SELECT Salary FROM Worker ORDER BY Salary DESC LIMIT 5,1;\n",
    "where n = 5"
   ]
  },
  {
   "cell_type": "markdown",
   "id": "71f7f74f",
   "metadata": {},
   "source": [
    "<img src=\"A3_3.jpg\" width=\"900\"/>"
   ]
  },
  {
   "cell_type": "code",
   "execution_count": null,
   "id": "2fb75f12",
   "metadata": {},
   "outputs": [],
   "source": []
  },
  {
   "cell_type": "code",
   "execution_count": null,
   "id": "a3585504",
   "metadata": {},
   "outputs": [],
   "source": []
  }
 ],
 "metadata": {
  "kernelspec": {
   "display_name": "Python 3",
   "language": "python",
   "name": "python3"
  },
  "language_info": {
   "codemirror_mode": {
    "name": "ipython",
    "version": 3
   },
   "file_extension": ".py",
   "mimetype": "text/x-python",
   "name": "python",
   "nbconvert_exporter": "python",
   "pygments_lexer": "ipython3",
   "version": "3.8.8"
  }
 },
 "nbformat": 4,
 "nbformat_minor": 5
}
